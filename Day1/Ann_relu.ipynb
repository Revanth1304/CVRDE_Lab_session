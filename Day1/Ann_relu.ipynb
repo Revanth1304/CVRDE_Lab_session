{
 "cells": [
  {
   "cell_type": "markdown",
   "metadata": {},
   "source": [
    "## This is a small demo regarding Artificial Neural Network from scratch"
   ]
  },
  {
   "cell_type": "code",
   "execution_count": 1,
   "metadata": {},
   "outputs": [],
   "source": [
    "import numpy as np \n",
    "import matplotlib.pyplot as plt\n"
   ]
  },
  {
   "cell_type": "markdown",
   "metadata": {},
   "source": [
    "# XOR example\n",
    "\n",
    " X1 | X2| Y \n",
    "----|----|----\n",
    "0|0|0\n",
    "0|1|1\n",
    "1|0|1\n",
    "1|1|0\n"
   ]
  },
  {
   "cell_type": "markdown",
   "metadata": {},
   "source": [
    "## Initialize data and output"
   ]
  },
  {
   "cell_type": "code",
   "execution_count": 2,
   "metadata": {},
   "outputs": [],
   "source": [
    "# Initialize input data (X) and target output data (y)\n",
    "X = np.array([[0, 0],\n",
    "              [0, 1],\n",
    "              [1, 0],\n",
    "              [1, 1]])\n",
    "\n",
    "y = np.array([[0],\n",
    "              [1],\n",
    "              [1],\n",
    "              [0]])"
   ]
  },
  {
   "cell_type": "code",
   "execution_count": 3,
   "metadata": {},
   "outputs": [
    {
     "name": "stdout",
     "output_type": "stream",
     "text": [
      "Input: (4, 2)\n",
      "Output: (4, 1)\n"
     ]
    }
   ],
   "source": [
    "#check the shapes\n",
    "print(f\"Input: {X.shape}\") #Total 4 cases each case two features\n",
    "print(f\"Output: {y.shape}\") #Total 4 cases each case one output"
   ]
  },
  {
   "cell_type": "markdown",
   "metadata": {},
   "source": [
    "<p align=\"center\">\n",
    "  <img src=\"images/Ann_1.jpg\" alt=\"Computational Graph\">\n",
    "</p>"
   ]
  },
  {
   "cell_type": "code",
   "execution_count": 4,
   "metadata": {},
   "outputs": [],
   "source": [
    "# Set seed for reproducibility\n",
    "np.random.seed(1)\n",
    "\n",
    "# Initialize weights randomly with mean 0\n",
    "input_layer_neurons = X.shape[1] #index starts with zero\n",
    "hidden_layer_neurons = 3 #Total 3 hidden units\n",
    "output_neuron = 1 #output size"
   ]
  },
  {
   "cell_type": "code",
   "execution_count": 5,
   "metadata": {},
   "outputs": [
    {
     "name": "stdout",
     "output_type": "stream",
     "text": [
      "Weights shape from input to hidden layer w_1: (2, 3)\n",
      "Bias shape from input to hidden layer b_1: (1, 3)\n",
      "Weights shape from hidden layer to output layer w_2: (3, 1)\n",
      "Bias shape from hidden layer to output layer b_2: (1, 1)\n"
     ]
    }
   ],
   "source": [
    "# Weights and biases for the input to hidden layer\n",
    "W1 = 2 * np.random.random((input_layer_neurons, hidden_layer_neurons)) - 1\n",
    "b1 = 2 * np.random.random((1, hidden_layer_neurons)) - 1\n",
    "\n",
    "\n",
    "#Lets print shape\n",
    "print(f\"Weights shape from input to hidden layer w_1: {W1.shape}\")\n",
    "print(f\"Bias shape from input to hidden layer b_1: {b1.shape}\")\n",
    "\n",
    "\n",
    "\n",
    "# Weights and biases for the hidden to output layer\n",
    "W2 = 2 * np.random.random((hidden_layer_neurons, output_neuron)) - 1\n",
    "b2 = 2 * np.random.random((1, output_neuron)) - 1\n",
    "\n",
    "#Lets print shape\n",
    "print(f\"Weights shape from hidden layer to output layer w_2: {W2.shape}\")\n",
    "print(f\"Bias shape from hidden layer to output layer b_2: {b2.shape}\")"
   ]
  },
  {
   "cell_type": "markdown",
   "metadata": {},
   "source": [
    "## Forward Propagation with Bias\n",
    "\n",
    "- Input to Hidden layer\n",
    "    - Compute pre-activation function $z^{(1)}$\n",
    "    $$z^{(1)} = X_{4\\times2}W^{(1)}_{2\\times3} + b^{(1)}_{1\\times3} \\hspace{10mm}(b^{(1)} \\text{ broad casted to all rows})$$ \n",
    "    - Apply the Activation function $a^{(1)}$\n",
    "    $$a^{(1)}=\\sigma(z^{(1)})$$\n",
    "\n",
    "\n",
    "\n",
    "Example\n",
    "$$\n",
    "A_{4\\times3}\\hspace{2mm}B_{1\\times3}\n",
    "= \\left(\\begin{array}{cc} \n",
    "1 & 2&3 \\\\[10pt] \n",
    "4 & 5&6 \\\\[10pt]\n",
    "7 & 8&9 \\\\[10pt] \n",
    "5 & 2&3 \\\\[10pt]\n",
    "\\end{array}\\right)_{4\\times3} + \n",
    "\\left(\\begin{array}{cc} \n",
    "10 & 20&30 \\\\[10pt]\n",
    "\\end{array}\\right)_{1\\times3}\n",
    "\n",
    "\\\\[10pt]\n",
    "= \\left(\\begin{array}{cc} \n",
    "1 & 2&3 \\\\[10pt] \n",
    "4 & 5&6 \\\\[10pt]\n",
    "7 & 8&9 \\\\[10pt] \n",
    "5 & 2&3 \\\\[10pt]\n",
    "\\end{array}\\right)_{4\\times3} + \n",
    "\\left(\\begin{array}{cc} \n",
    "10 & 20&30 \\\\[10pt]\n",
    "10 & 20&30 \\\\[10pt]\n",
    "10 & 20&30 \\\\[10pt]\n",
    "10 & 20&30 \\\\[10pt]\n",
    "\\end{array}\\right)_{4\\times3}\n",
    "$$"
   ]
  },
  {
   "cell_type": "code",
   "execution_count": 6,
   "metadata": {},
   "outputs": [],
   "source": [
    "def sigmoid(x):\n",
    "    return 1 / (1 + np.exp(-x))"
   ]
  },
  {
   "cell_type": "code",
   "execution_count": 7,
   "metadata": {},
   "outputs": [],
   "source": [
    "def sigmoid_derivative(x):\n",
    "    sig = sigmoid(x)\n",
    "    return sig * (1 - sig)"
   ]
  },
  {
   "cell_type": "code",
   "execution_count": 8,
   "metadata": {},
   "outputs": [
    {
     "name": "stdout",
     "output_type": "stream",
     "text": [
      "Pre activation function shape z_1: (4, 3)\n",
      "Activation function shape a_1: (4, 3)\n"
     ]
    }
   ],
   "source": [
    "z1 = np.dot(X, W1) + b1\n",
    "a1 = sigmoid(z1)\n",
    "\n",
    "print(f\"Pre activation function shape z_1: {z1.shape}\")\n",
    "print(f\"Activation function shape a_1: {a1.shape}\")"
   ]
  },
  {
   "cell_type": "markdown",
   "metadata": {},
   "source": [
    "- Hidden to Output layer\n",
    "    - Compute pre-activation function $z^{(1)}$\n",
    "    $$z^{(2)} = a^{1}_{4\\times3}W^{(2)}_{3\\times1} + b^{(2)}_{1\\times1} \\hspace{10mm}(b^{(2)} \\text{ broad casted to all rows})$$ \n",
    "    - Apply the Activation function $a^{(1)}$\n",
    "    $$a^{(2)}=RELU(z^{(2)})$$\n"
   ]
  },
  {
   "cell_type": "code",
   "execution_count": 9,
   "metadata": {},
   "outputs": [],
   "source": [
    "def relu(x):\n",
    "    return np.maximum(0, x)"
   ]
  },
  {
   "cell_type": "code",
   "execution_count": 10,
   "metadata": {},
   "outputs": [],
   "source": [
    "def relu_derivative(x):\n",
    "    return np.where(x>0, 1, 0)\n"
   ]
  },
  {
   "cell_type": "code",
   "execution_count": 11,
   "metadata": {},
   "outputs": [
    {
     "name": "stdout",
     "output_type": "stream",
     "text": [
      "Pre activation function shape z_2: (4, 1)\n",
      "Activation function shape a_2: (4, 1)\n"
     ]
    }
   ],
   "source": [
    "z2 = np.dot(a1, W2) + b2\n",
    "a2 = relu(z2)\n",
    "\n",
    "print(f\"Pre activation function shape z_2: {z2.shape}\")\n",
    "print(f\"Activation function shape a_2: {a2.shape}\")\n",
    "\n",
    "y_hat = a2"
   ]
  },
  {
   "cell_type": "markdown",
   "metadata": {},
   "source": [
    "- Calculate error\n",
    "    $$\\hat{y} = a^{(2)}$$\n",
    "    $$\\mathcal{L}= \\frac{1}{2n} \\sum_{i=1}^{n}(\\hat{y_i}- y_i)^2$$"
   ]
  },
  {
   "cell_type": "code",
   "execution_count": 12,
   "metadata": {},
   "outputs": [
    {
     "name": "stdout",
     "output_type": "stream",
     "text": [
      "MSE: 0.25\n"
     ]
    }
   ],
   "source": [
    "#Calculate mse\n",
    "loss = np.mean((y - y_hat) ** 2) / 2\n",
    "\n",
    "print(f\"MSE: {loss}\")"
   ]
  },
  {
   "cell_type": "markdown",
   "metadata": {},
   "source": [
    "# Gradients from Output to Hidden layer\n",
    "Gradient of loss $\\mathcal{L}$ w.r.t $\\hat{y}$\n",
    "\n",
    "$$\n",
    "\\frac{\\partial \\mathcal{L}}{\\partial \\hat{y}} = \\frac{1}{n}\\sum_{i=1}^{n}(\\hat{y_i}- y_i)\n",
    "$$\n",
    "\n",
    "Combining the Gradients\n",
    "$$\n",
    "\\frac{\\partial \\mathcal{L}}{\\partial z^{(2)}} = (\\hat{y}-y).\\sigma^{'}(z^{(2)}) = \\delta{(2)}\n",
    "$$\n",
    "\n",
    "Weights and biases for Output layer\n",
    "$$\n",
    "dW^{(2)} = \\frac{\\partial \\mathcal{L}}{dW^{(2)}} = (a^{(1)})^T . \\delta^{(2)} \\\\[10pt]\n",
    "db^{(2)} = \\frac{\\partial \\mathcal{L}}{db^{(2)}} = \\sum \\delta^{(2)}\n",
    "$$\n"
   ]
  },
  {
   "cell_type": "code",
   "execution_count": 13,
   "metadata": {},
   "outputs": [
    {
     "name": "stdout",
     "output_type": "stream",
     "text": [
      "(3, 1) (1, 1)\n"
     ]
    }
   ],
   "source": [
    "m = y.shape[0]\n",
    "delta2 = (a2 - y) * sigmoid_derivative(z2)\n",
    "dW2 = np.dot(a1.T, delta2) / m\n",
    "db2 = np.sum(delta2, axis=0, keepdims=True) / m\n",
    "\n",
    "print(dW2.shape, db2.shape)"
   ]
  },
  {
   "cell_type": "markdown",
   "metadata": {},
   "source": [
    "# Gradients from Hidden to Input layer\n",
    "\n",
    "\n",
    "Error term for Hidden layer $\\delta^{(1)}$\n",
    "\n",
    "$$\n",
    "\\delta^{(1)} = (\\delta^{(2)}.(W^{(2)})^T).RELU^{'}(z^{(1)}) \\\\[10pt]\n",
    "$$\n",
    "Derivative of Relu function\n",
    "$$\n",
    "RELU^{'}(z^{(1)}) =\\begin{cases} \n",
    "1 & \\text{if } z^{(2)} > 0 \\\\[10pt]\n",
    "0 & \\text{if } z^{(2)} \\leq 0 \n",
    "\\end{cases} =  \\\\[10px]\n",
    "\n",
    "dW^{(1)} = \\frac{\\partial \\mathcal{L}}{dW^{(1)}} = (X)^T.\\delta^{(1)} \\\\[10pt]\n",
    "db^{(1)} = \\frac{\\partial \\mathcal{L}}{db^{(1)}} = \\sum \\delta^{(1)}\n",
    "$$\n",
    "\n"
   ]
  },
  {
   "cell_type": "code",
   "execution_count": 14,
   "metadata": {},
   "outputs": [
    {
     "name": "stdout",
     "output_type": "stream",
     "text": [
      "(2, 3) (1, 3)\n"
     ]
    }
   ],
   "source": [
    "# From hidden to input layer\n",
    "m = y.shape[0]\n",
    "delta1 = np.dot(delta2, W2.T) * relu_derivative(a1)\n",
    "dW1 = np.dot(X.T, delta1) / m\n",
    "db1 = np.sum(delta1, axis=0, keepdims=True) / m\n",
    "print(dW1.shape, db1.shape)"
   ]
  },
  {
   "cell_type": "code",
   "execution_count": 15,
   "metadata": {},
   "outputs": [],
   "source": [
    "eta = 0.1 #learning rate"
   ]
  },
  {
   "cell_type": "markdown",
   "metadata": {},
   "source": [
    "# Gradient update rule\n",
    "\n",
    "From Output to Hidden layer\n",
    "$$\n",
    "W^{(2)} = W^{(2)} - \\eta \\frac{\\partial \\mathcal{L}}{\\partial W^{(2)}} \\\\[10pt] \n",
    "b^{(2)} = b^{(2)} - \\eta \\frac{\\partial \\mathcal{L}}{\\partial b^{(2)}} \\\\[10pt]\n",
    "$$\n",
    "From Hidden to Input layer\n",
    "$$\n",
    "W^{(1)} = W^{(1)} - \\eta \\frac{\\partial \\mathcal{L}}{\\partial W^{(1)}} \\\\[10pt]\n",
    "b^{(1)} = b^{(1)} - \\eta \\frac{\\partial \\mathcal{L}}{\\partial b^{(1)}} \\\\[10pt]\n",
    "\n",
    "\n",
    "$$"
   ]
  },
  {
   "cell_type": "code",
   "execution_count": 16,
   "metadata": {},
   "outputs": [],
   "source": [
    "\"\"\"weight updates for all weights and biases\n",
    "    GD update rule going towards negative gradient direction of the loss surface\n",
    "\"\"\"\n",
    "W2 -= eta * dW2\n",
    "b2 -= eta * db2\n",
    "W1 -= eta * dW1\n",
    "b1 -= eta * db1\n"
   ]
  },
  {
   "cell_type": "markdown",
   "metadata": {},
   "source": [
    "# Place all these together"
   ]
  },
  {
   "cell_type": "code",
   "execution_count": 17,
   "metadata": {},
   "outputs": [],
   "source": [
    "def initialize(input_layer_neurons, hidden_layer_neurons, output_neuron):\n",
    "    # Weights and biases for the input to hidden layer\n",
    "    W1 = 2 * np.random.random((input_layer_neurons, hidden_layer_neurons)) - 1\n",
    "    b1 = 2 * np.random.random((1, hidden_layer_neurons)) - 1\n",
    "\n",
    "\n",
    "    #Lets print shape\n",
    "    print(f\"Weights shape from input to hidden layer w_1: {W1.shape}\")\n",
    "    print(f\"Bias shape from input to hidden layer b_1: {b1.shape}\")\n",
    "\n",
    "\n",
    "\n",
    "    # Weights and biases for the hidden to output layer\n",
    "    W2 = 2 * np.random.random((hidden_layer_neurons, output_neuron)) - 1\n",
    "    b2 = 2 * np.random.random((1, output_neuron)) - 1\n",
    "\n",
    "    #Lets print shape\n",
    "    print(f\"Weights shape from hidden layer to output layer w_2: {W2.shape}\")\n",
    "    print(f\"Bias shape from hidden layer to output layer b_2: {b2.shape}\")\n",
    "    return W1, b1, W2, b2"
   ]
  },
  {
   "cell_type": "code",
   "execution_count": 18,
   "metadata": {},
   "outputs": [],
   "source": [
    "# Forward pass\n",
    "def forward_prop(X, W1, b1, W2, b2):\n",
    "    # From input to hidden layer\n",
    "    z1 = np.dot(X, W1) + b1\n",
    "    a1 = relu(z1)\n",
    "\n",
    "    # From hidden layer to output\n",
    "    z2 = np.dot(a1, W2) + b2\n",
    "    a2 = sigmoid(z2)\n",
    "\n",
    "    return z1, a1, z2, a2"
   ]
  },
  {
   "cell_type": "code",
   "execution_count": 19,
   "metadata": {},
   "outputs": [],
   "source": [
    "def back_prop(X, y, z1, a1, z2, a2, W2):\n",
    "    m = y.shape[0]\n",
    "\n",
    "    # From output to hidden layer\n",
    "    delta2 = (a2 - y) * sigmoid_derivative(z2)\n",
    "    dW2 = np.dot(a1.T, delta2) / m\n",
    "    db2 = np.sum(delta2, axis=0, keepdims=True) / m\n",
    "\n",
    "    # From hidden to input layer\n",
    "    delta1 = np.dot(delta2, W2.T) * relu_derivative(z1)\n",
    "    dW1 = np.dot(X.T, delta1) / m\n",
    "    db1 = np.sum(delta1, axis=0, keepdims=True) / m\n",
    "\n",
    "    return dW2, db2, dW1, db1"
   ]
  },
  {
   "cell_type": "code",
   "execution_count": 20,
   "metadata": {},
   "outputs": [
    {
     "name": "stdout",
     "output_type": "stream",
     "text": [
      "Weights shape from input to hidden layer w_1: (2, 3)\n",
      "Bias shape from input to hidden layer b_1: (1, 3)\n",
      "Weights shape from hidden layer to output layer w_2: (3, 1)\n",
      "Bias shape from hidden layer to output layer b_2: (1, 1)\n",
      "Epoch 0, Loss: 0.17363272658771128\n",
      "Epoch 5000, Loss: 0.0020404471800501765\n",
      "Epoch 10000, Loss: 0.0007518854821124911\n",
      "Epoch 15000, Loss: 0.00044510852871441453\n",
      "Epoch 20000, Loss: 0.0003121518086979408\n",
      "Epoch 25000, Loss: 0.00023883740321036044\n",
      "Epoch 30000, Loss: 0.00019269795185521198\n",
      "Epoch 35000, Loss: 0.0001611057110385499\n",
      "Epoch 40000, Loss: 0.00013818329830046335\n",
      "Epoch 45000, Loss: 0.00012082141049409465\n",
      "Epoch 50000, Loss: 0.00010723375404054708\n",
      "Epoch 55000, Loss: 9.632538720642176e-05\n",
      "Epoch 60000, Loss: 8.737619132834755e-05\n",
      "Epoch 65000, Loss: 7.991180650031093e-05\n",
      "Epoch 70000, Loss: 7.35916154489829e-05\n",
      "Epoch 75000, Loss: 6.817606408310471e-05\n",
      "Epoch 80000, Loss: 6.348431674664282e-05\n",
      "Epoch 85000, Loss: 5.938235393948043e-05\n",
      "Epoch 90000, Loss: 5.5766331919720944e-05\n",
      "Epoch 95000, Loss: 5.255486417050414e-05\n"
     ]
    }
   ],
   "source": [
    "#Lets place all these together\n",
    "W1, b1, W2, b2 = initialize(input_layer_neurons, hidden_layer_neurons, output_neuron)\n",
    "epoch = 100000\n",
    "\n",
    "\n",
    "eta = 9e-2\n",
    "losses = []\n",
    "\n",
    "\n",
    "for i in range(epoch):\n",
    "    z1, a1, z2, a2 = forward_prop(X, W1, b1, W2, b2)\n",
    "\n",
    "    loss = np.mean((y - a2) ** 2) / 2\n",
    "    losses.append(loss)\n",
    "\n",
    "\n",
    "    dW2, db2, dW1, db1 = back_prop(X, y, z1, a1, z2, a2, W2)\n",
    "\n",
    "    # Update weights and biases\n",
    "    W2 -= eta * dW2\n",
    "    b2 -= eta * db2\n",
    "    W1 -= eta * dW1\n",
    "    b1 -= eta * db1\n",
    "\n",
    "\n",
    "    if i %5000 == 0:\n",
    "        print(f\"Epoch {i}, Loss: {loss}\")\n"
   ]
  },
  {
   "cell_type": "code",
   "execution_count": 21,
   "metadata": {},
   "outputs": [
    {
     "data": {
      "image/png": "[encoded data removed]",
      "text/plain": [
       "<Figure size 640x480 with 2 Axes>"
      ]
     },
     "metadata": {},
     "output_type": "display_data"
    },
    {
     "data": {
      "image/png": "[encoded data removed]",
      "text/plain": [
       "<Figure size 640x480 with 1 Axes>"
      ]
     },
     "metadata": {},
     "output_type": "display_data"
    },
    {
     "name": "stdout",
     "output_type": "stream",
     "text": [
      "Final predictions:\n",
      " [[0]\n",
      " [1]\n",
      " [1]\n",
      " [0]]\n"
     ]
    }
   ],
   "source": [
    "# Plot the data points\n",
    "plt.scatter(X[:, 0], X[:, 1], c=y.ravel(), cmap='viridis', marker='o', s=100, edgecolor='k')\n",
    "plt.title('XOR Problem')\n",
    "\n",
    "# Create a mesh to plot the decision boundary\n",
    "xx, yy = np.meshgrid(np.linspace(-0.5, 1.5, 100), np.linspace(-0.5, 1.5, 100))\n",
    "grid = np.c_[xx.ravel(), yy.ravel()]\n",
    "\n",
    "# Forward pass on the grid\n",
    "_, _, _, a2_grid = forward_prop(grid, W1, b1, W2, b2)\n",
    "a2_grid = a2_grid.reshape(xx.shape)\n",
    "\n",
    "# Plot the decision boundary\n",
    "plt.contourf(xx, yy, a2_grid, levels=[0, 0.5, 1], alpha=0.2, colors=['blue', 'yellow'])\n",
    "plt.colorbar()\n",
    "plt.show()\n",
    "\n",
    "# Plot the loss over iterations\n",
    "plt.plot(losses)\n",
    "plt.title('Loss over iterations')\n",
    "plt.xlabel('Epoch')\n",
    "plt.ylabel('Loss')\n",
    "plt.show()\n",
    "\n",
    "# Final output\n",
    "_, _, _, final_output = forward_prop(X, W1, b1, W2, b2)\n",
    "predictions = np.where(final_output > 0.5, 1, 0)\n",
    "\n",
    "print(\"Final predictions:\\n\", predictions)"
   ]
  }
 ],
 "metadata": {
  "kernelspec": {
   "display_name": "vision",
   "language": "python",
   "name": "python3"
  },
  "language_info": {
   "codemirror_mode": {
    "name": "ipython",
    "version": 3
   },
   "file_extension": ".py",
   "mimetype": "text/x-python",
   "name": "python",
   "nbconvert_exporter": "python",
   "pygments_lexer": "ipython3",
   "version": "3.8.19"
  }
 },
 "nbformat": 4,
 "nbformat_minor": 2
}
