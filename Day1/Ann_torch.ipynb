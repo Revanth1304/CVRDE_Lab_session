{
 "cells": [
  {
   "cell_type": "code",
   "execution_count": null,
   "metadata": {},
   "outputs": [],
   "source": [
    "import torch\n",
    "import numpy as np \n",
    "import matplotlib.pyplot as plt\n",
    "import warnings\n",
    "\n",
    "import torch.nn as nn\n",
    "import torch.nn.functional as F\n",
    "\n"
   ]
  },
  {
   "cell_type": "markdown",
   "metadata": {},
   "source": [
    "# XOR example\n",
    "\n",
    " X1 | X2| Y \n",
    "----|----|----\n",
    "0|0|0\n",
    "0|1|1\n",
    "1|0|1\n",
    "1|1|0\n"
   ]
  },
  {
   "cell_type": "markdown",
   "metadata": {},
   "source": [
    "<p align=\"center\">\n",
    "  <img src=\"images/Ann_1.jpg\" alt=\"Computational Graph\">\n",
    "</p>"
   ]
  },
  {
   "cell_type": "code",
   "execution_count": null,
   "metadata": {},
   "outputs": [],
   "source": [
    "X =   torch.tensor([[0, 0],\n",
    "              [0, 1],\n",
    "              [1, 0],\n",
    "              [1, 1]], dtype=torch.float32)\n",
    "\n",
    "\n",
    "y = torch.tensor([[0],\n",
    "              [1],\n",
    "              [1],\n",
    "              [0]], dtype=torch.float32)"
   ]
  },
  {
   "cell_type": "code",
   "execution_count": null,
   "metadata": {},
   "outputs": [],
   "source": [
    "#check the shapes\n",
    "print(f\"Input: {X.shape}\") #Total 4 cases each case two features\n",
    "print(f\"Output: {y.shape}\") #Total 4 cases each case one output"
   ]
  },
  {
   "cell_type": "code",
   "execution_count": null,
   "metadata": {},
   "outputs": [],
   "source": [
    "# Set seed for reproducibility\n",
    "np.random.seed(1)\n",
    "\n",
    "# Initialize weights randomly with mean 0\n",
    "input_layer_neurons = X.shape[1] #index starts with zero\n",
    "hidden_layer_neurons = 3 #Total 3 hidden units\n",
    "output_neuron = 1 #output size"
   ]
  },
  {
   "cell_type": "code",
   "execution_count": null,
   "metadata": {},
   "outputs": [],
   "source": [
    "W1 = torch.nn.Parameter(2 * torch.rand((input_layer_neurons, hidden_layer_neurons)) - 1, requires_grad=True)\n",
    "b1 = torch.nn.Parameter(2 * torch.rand((1, hidden_layer_neurons)) - 1, requires_grad=True)\n",
    "\n",
    "\n",
    "\n",
    "\n",
    "#Lets print shape\n",
    "print(f\"Weights shape from input to hidden layer w_1: {W1.shape}\")\n",
    "print(f\"Bias shape from input to hidden layer b_1: {b1.shape}\")\n",
    "\n",
    "\n",
    "\n",
    "# Weights and biases for the hidden to output layer\n",
    "W2 = torch.nn.Parameter(2 * torch.rand((hidden_layer_neurons, output_neuron)) - 1, requires_grad=True)\n",
    "b2 = torch.nn.Parameter(2 * torch.rand((1, output_neuron)) - 1, requires_grad=True)\n",
    "\n",
    "#Lets print shape\n",
    "print(f\"Weights shape from hidden layer to output layer w_2: {W2.shape}\")\n",
    "print(f\"Bias shape from hidden layer to output layer b_2: {b2.shape}\")"
   ]
  },
  {
   "cell_type": "markdown",
   "metadata": {},
   "source": [
    "## Forward Propagation with Bias\n",
    "\n",
    "- Input to Hidden layer\n",
    "    - Compute pre-activation function $z^{(1)}$\n",
    "    $$z^{(1)} = X_{4\\times2}W^{(1)}_{2\\times3} + b^{(1)}_{1\\times3} \\hspace{10mm}(b^{(1)} \\text{ broad casted to all rows})$$ \n",
    "    - Apply the Activation function $a^{(1)}$\n",
    "    $$a^{(1)}=\\sigma(z^{(1)})$$\n",
    "\n",
    "\n",
    "\n",
    "Example\n",
    "$$\n",
    "A_{4\\times3}\\hspace{2mm}B_{1\\times3}\n",
    "= \\left(\\begin{array}{cc} \n",
    "1 & 2&3 \\\\[10pt] \n",
    "4 & 5&6 \\\\[10pt]\n",
    "7 & 8&9 \\\\[10pt] \n",
    "5 & 2&3 \\\\[10pt]\n",
    "\\end{array}\\right)_{4\\times3} + \n",
    "\\left(\\begin{array}{cc} \n",
    "10 & 20&30 \\\\[10pt]\n",
    "\\end{array}\\right)_{1\\times3}\n",
    "\n",
    "\\\\[10pt]\n",
    "= \\left(\\begin{array}{cc} \n",
    "1 & 2&3 \\\\[10pt] \n",
    "4 & 5&6 \\\\[10pt]\n",
    "7 & 8&9 \\\\[10pt] \n",
    "5 & 2&3 \\\\[10pt]\n",
    "\\end{array}\\right)_{4\\times3} + \n",
    "\\left(\\begin{array}{cc} \n",
    "10 & 20&30 \\\\[10pt]\n",
    "10 & 20&30 \\\\[10pt]\n",
    "10 & 20&30 \\\\[10pt]\n",
    "10 & 20&30 \\\\[10pt]\n",
    "\\end{array}\\right)_{4\\times3}\n",
    "$$"
   ]
  },
  {
   "cell_type": "code",
   "execution_count": null,
   "metadata": {},
   "outputs": [],
   "source": [
    "z1 = X @ W1 + b1\n",
    "a1 = F.sigmoid(z1)\n",
    "\n",
    "print(f\"Pre activation function shape z_1: {z1.shape}\")\n",
    "print(f\"Activation function shape a_1: {a1.shape}\")"
   ]
  },
  {
   "cell_type": "markdown",
   "metadata": {},
   "source": [
    "- Hidden to Output layer\n",
    "    - Compute pre-activation function $z^{(1)}$\n",
    "    $$z^{(2)} = a^{1}_{4\\times3}W^{(2)}_{3\\times1} + b^{(2)}_{1\\times1} \\hspace{10mm}(b^{(2)} \\text{ broad casted to all rows})$$ \n",
    "    - Apply the Activation function $a^{(1)}$\n",
    "    $$a^{(2)}=\\sigma(z^{(2)})$$\n"
   ]
  },
  {
   "cell_type": "code",
   "execution_count": null,
   "metadata": {},
   "outputs": [],
   "source": [
    "z2 = a1 @ W2 + b2\n",
    "a2 = F.sigmoid(z2)\n",
    "\n",
    "print(f\"Pre activation function shape z_2: {z2.shape}\")\n",
    "print(f\"Activation function shape a_2: {a2.shape}\")\n",
    "\n",
    "y_hat = a2"
   ]
  },
  {
   "cell_type": "markdown",
   "metadata": {},
   "source": [
    "- Calculate error\n",
    "    $$\\hat{y} = a^{(2)}$$\n",
    "    $$\\mathcal{L}= \\frac{1}{2n} \\sum_{i=1}^{n}(\\hat{y_i}- y_i)^2$$"
   ]
  },
  {
   "cell_type": "code",
   "execution_count": null,
   "metadata": {},
   "outputs": [],
   "source": [
    "#Calculate mse\n",
    "loss = torch.mean((y - y_hat) ** 2) / 2\n",
    "\n",
    "print(f\"MSE: {loss}\")"
   ]
  },
  {
   "cell_type": "code",
   "execution_count": null,
   "metadata": {},
   "outputs": [],
   "source": [
    "def initialize(input_layer_neurons, hidden_layer_neurons, output_neuron):\n",
    "    W1 = torch.nn.Parameter(2 * torch.rand((input_layer_neurons, hidden_layer_neurons)) - 1, requires_grad=True)\n",
    "    b1 = torch.nn.Parameter(2 * torch.rand((1, hidden_layer_neurons)) - 1, requires_grad=True)\n",
    "\n",
    "\n",
    "\n",
    "\n",
    "    #Lets print shape\n",
    "    print(f\"Weights shape from input to hidden layer w_1: {W1.shape}\")\n",
    "    print(f\"Bias shape from input to hidden layer b_1: {b1.shape}\")\n",
    "\n",
    "\n",
    "\n",
    "    # Weights and biases for the hidden to output layer\n",
    "    W2 = torch.nn.Parameter(2 * torch.rand((hidden_layer_neurons, output_neuron)) - 1, requires_grad=True)\n",
    "    b2 = torch.nn.Parameter(2 * torch.rand((1, output_neuron)) - 1, requires_grad=True)\n",
    "\n",
    "    #Lets print shape\n",
    "    print(f\"Weights shape from hidden layer to output layer w_2: {W2.shape}\")\n",
    "    print(f\"Bias shape from hidden layer to output layer b_2: {b2.shape}\")\n",
    "    return W1, b1, W2, b2"
   ]
  },
  {
   "cell_type": "code",
   "execution_count": null,
   "metadata": {},
   "outputs": [],
   "source": [
    "# Forward pass\n",
    "def forward_prop(X, W1, b1, W2, b2):\n",
    "    # From input to hidden layer\n",
    "    z1 = torch.matmul(X, W1) + b1\n",
    "    a1 = torch.sigmoid(z1)\n",
    "    z2 = torch.matmul(a1, W2) + b2\n",
    "    a2 = torch.sigmoid(z2)\n",
    "\n",
    "    return z1, a1, z2, a2"
   ]
  },
  {
   "cell_type": "code",
   "execution_count": null,
   "metadata": {},
   "outputs": [],
   "source": [
    "epoch = 100000\n",
    "W1, b1, W2, b2 = initialize(input_layer_neurons, hidden_layer_neurons, output_neuron)\n",
    "\n",
    "eta = 9e-2\n",
    "losses = []\n",
    "\n",
    "for epoch in range(epoch):\n",
    "    z1, a1, z2, a2 = forward_prop(X, W1, b1, W2, b2)\n",
    "\n",
    "    loss = torch.mean((y - a2) ** 2) / 2\n",
    "    losses.append(loss.item())\n",
    "\n",
    "    loss.backward(retain_graph=True)\n",
    "    with torch.no_grad():\n",
    "        W1 -= eta * W1.grad\n",
    "        b1 -= eta * b1.grad\n",
    "        W2 -= eta * W2.grad\n",
    "        b2 -= eta * b2.grad\n",
    "\n",
    "        # Manually zero the gradients after updating weights\n",
    "        W1.grad.zero_()\n",
    "        b1.grad.zero_()\n",
    "        W2.grad.zero_()\n",
    "        b2.grad.zero_()\n",
    "\n",
    "    if epoch % 5000 == 0:\n",
    "        print(f\"Epoch {epoch}, Loss: {loss.item()}\")\n",
    "\n",
    "\n",
    "\n",
    "\n"
   ]
  },
  {
   "cell_type": "code",
   "execution_count": null,
   "metadata": {},
   "outputs": [],
   "source": [
    "# Plot the data points\n",
    "plt.scatter(X[:, 0], X[:, 1], c=y.numpy().ravel(), cmap='viridis', marker='o', s=100, edgecolor='k')\n",
    "plt.title('XOR Problem')\n",
    "\n",
    "# Create a mesh to plot the decision boundary\n",
    "xx, yy = np.meshgrid(np.linspace(-0.5, 1.5, 100), np.linspace(-0.5, 1.5, 100))\n",
    "grid = torch.tensor(np.c_[xx.ravel(), yy.ravel()], dtype=torch.float32)\n",
    "\n",
    "# Forward pass on the grid\n",
    "_, _, _, a2_grid = forward_prop(grid, W1, b1, W2, b2)\n",
    "a2_grid = a2_grid.detach().numpy().reshape(xx.shape)\n",
    "\n",
    "# Plot the decision boundary\n",
    "plt.contourf(xx, yy, a2_grid, levels=[0, 0.5, 1], alpha=0.2, colors=['blue', 'yellow'])\n",
    "plt.colorbar()\n",
    "plt.show()\n",
    "\n",
    "# Plot the loss over iterations\n",
    "plt.plot(losses)\n",
    "plt.title('Loss over iterations')\n",
    "plt.xlabel('Epoch')\n",
    "plt.ylabel('Loss')\n",
    "plt.show()\n",
    "\n",
    "# Final output\n",
    "_, _, _, final_output = forward_prop(X, W1, b1, W2, b2)\n",
    "predictions = np.where(final_output.detach().numpy() > 0.5, 1, 0)\n",
    "\n",
    "print(\"Final predictions:\\n\", predictions)"
   ]
  },
  {
   "cell_type": "markdown",
   "metadata": {},
   "source": [
    "# Exercise\n",
    "\n",
    "Experiment with other activation functions and check the result"
   ]
  }
 ],
 "metadata": {
  "kernelspec": {
   "display_name": "vision",
   "language": "python",
   "name": "python3"
  },
  "language_info": {
   "codemirror_mode": {
    "name": "ipython",
    "version": 3
   },
   "file_extension": ".py",
   "mimetype": "text/x-python",
   "name": "python",
   "nbconvert_exporter": "python",
   "pygments_lexer": "ipython3",
   "version": "3.8.19"
  }
 },
 "nbformat": 4,
 "nbformat_minor": 2
}
