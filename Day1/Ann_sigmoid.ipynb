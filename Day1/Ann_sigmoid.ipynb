{
 "cells": [
  {
   "cell_type": "markdown",
   "metadata": {},
   "source": [
    "## This is a small demo regarding Artificial Neural Network from scratch"
   ]
  },
  {
   "cell_type": "code",
   "execution_count": null,
   "metadata": {},
   "outputs": [],
   "source": [
    "import numpy as np \n",
    "import matplotlib.pyplot as plt\n",
    "import warnings"
   ]
  },
  {
   "cell_type": "markdown",
   "metadata": {},
   "source": [
    "# XOR example\n",
    "\n",
    " X1 | X2| Y \n",
    "----|----|----\n",
    "0|0|0\n",
    "0|1|1\n",
    "1|0|1\n",
    "1|1|0\n"
   ]
  },
  {
   "cell_type": "markdown",
   "metadata": {},
   "source": [
    "## Initialize data and output"
   ]
  },
  {
   "cell_type": "code",
   "execution_count": null,
   "metadata": {},
   "outputs": [],
   "source": [
    "# Initialize input data (X) and target output data (y)\n",
    "X = np.array([[0, 0],\n",
    "              [0, 1],\n",
    "              [1, 0],\n",
    "              [1, 1]])\n",
    "\n",
    "y = np.array([[0],\n",
    "              [1],\n",
    "              [1],\n",
    "              [0]])"
   ]
  },
  {
   "cell_type": "code",
   "execution_count": null,
   "metadata": {},
   "outputs": [],
   "source": [
    "#check the shapes\n",
    "print(f\"Input: {X.shape}\") #Total 4 cases each case two features\n",
    "print(f\"Output: {y.shape}\") #Total 4 cases each case one output"
   ]
  },
  {
   "cell_type": "markdown",
   "metadata": {},
   "source": [
    "<p align=\"center\">\n",
    "  <img src=\"images/Ann_1.jpg\" alt=\"Computational Graph\">\n",
    "</p>"
   ]
  },
  {
   "cell_type": "code",
   "execution_count": null,
   "metadata": {},
   "outputs": [],
   "source": [
    "# Set seed for reproducibility\n",
    "np.random.seed(1)\n",
    "\n",
    "# Initialize weights randomly with mean 0\n",
    "input_layer_neurons = X.shape[1] #index starts with zero\n",
    "hidden_layer_neurons = 3 #Total 3 hidden units\n",
    "output_neuron = 1 #output size"
   ]
  },
  {
   "cell_type": "code",
   "execution_count": null,
   "metadata": {},
   "outputs": [],
   "source": [
    "# Weights and biases for the input to hidden layer\n",
    "W1 = 2 * np.random.random((input_layer_neurons, hidden_layer_neurons)) - 1\n",
    "b1 = 2 * np.random.random((1, hidden_layer_neurons)) - 1\n",
    "\n",
    "\n",
    "#Lets print shape\n",
    "print(f\"Weights shape from input to hidden layer w_1: {W1.shape}\")\n",
    "print(f\"Bias shape from input to hidden layer b_1: {b1.shape}\")\n",
    "\n",
    "\n",
    "\n",
    "# Weights and biases for the hidden to output layer\n",
    "W2 = 2 * np.random.random((hidden_layer_neurons, output_neuron)) - 1\n",
    "b2 = 2 * np.random.random((1, output_neuron)) - 1\n",
    "\n",
    "#Lets print shape\n",
    "print(f\"Weights shape from hidden layer to output layer w_2: {W2.shape}\")\n",
    "print(f\"Bias shape from hidden layer to output layer b_2: {b2.shape}\")"
   ]
  },
  {
   "cell_type": "markdown",
   "metadata": {},
   "source": [
    "## Forward Propagation with Bias\n",
    "\n",
    "- Input to Hidden layer\n",
    "    - Compute pre-activation function $z^{(1)}$\n",
    "    $$z^{(1)} = X_{4\\times2}W^{(1)}_{2\\times3} + b^{(1)}_{1\\times3} \\hspace{10mm}(b^{(1)} \\text{ broad casted to all rows})$$ \n",
    "    - Apply the Activation function $a^{(1)}$\n",
    "    $$a^{(1)}=\\sigma(z^{(1)})$$\n",
    "\n",
    "\n",
    "\n",
    "Example\n",
    "$$\n",
    "A_{4\\times3}\\hspace{2mm}B_{1\\times3}\n",
    "= \\left(\\begin{array}{cc} \n",
    "1 & 2&3 \\\\[10pt] \n",
    "4 & 5&6 \\\\[10pt]\n",
    "7 & 8&9 \\\\[10pt] \n",
    "5 & 2&3 \\\\[10pt]\n",
    "\\end{array}\\right)_{4\\times3} + \n",
    "\\left(\\begin{array}{cc} \n",
    "10 & 20&30 \\\\[10pt]\n",
    "\\end{array}\\right)_{1\\times3}\n",
    "\n",
    "\\\\[10pt]\n",
    "= \\left(\\begin{array}{cc} \n",
    "1 & 2&3 \\\\[10pt] \n",
    "4 & 5&6 \\\\[10pt]\n",
    "7 & 8&9 \\\\[10pt] \n",
    "5 & 2&3 \\\\[10pt]\n",
    "\\end{array}\\right)_{4\\times3} + \n",
    "\\left(\\begin{array}{cc} \n",
    "10 & 20&30 \\\\[10pt]\n",
    "10 & 20&30 \\\\[10pt]\n",
    "10 & 20&30 \\\\[10pt]\n",
    "10 & 20&30 \\\\[10pt]\n",
    "\\end{array}\\right)_{4\\times3}\n",
    "$$"
   ]
  },
  {
   "cell_type": "code",
   "execution_count": null,
   "metadata": {},
   "outputs": [],
   "source": [
    "def sigmoid(x):\n",
    "    return 1 / (1 + np.exp(-x))"
   ]
  },
  {
   "cell_type": "code",
   "execution_count": null,
   "metadata": {},
   "outputs": [],
   "source": [
    "def sigmoid_derivative(x):\n",
    "    sig = sigmoid(x)\n",
    "    return sig * (1 - sig)"
   ]
  },
  {
   "cell_type": "code",
   "execution_count": null,
   "metadata": {},
   "outputs": [],
   "source": [
    "z1 = np.dot(X, W1) + b1\n",
    "a1 = sigmoid(z1)\n",
    "\n",
    "print(f\"Pre activation function shape z_1: {z1.shape}\")\n",
    "print(f\"Activation function shape a_1: {a1.shape}\")"
   ]
  },
  {
   "cell_type": "markdown",
   "metadata": {},
   "source": [
    "- Hidden to Output layer\n",
    "    - Compute pre-activation function $z^{(1)}$\n",
    "    $$z^{(2)} = a^{1}_{4\\times3}W^{(2)}_{3\\times1} + b^{(2)}_{1\\times1} \\hspace{10mm}(b^{(2)} \\text{ broad casted to all rows})$$ \n",
    "    - Apply the Activation function $a^{(1)}$\n",
    "    $$a^{(2)}=\\sigma(z^{(2)})$$\n"
   ]
  },
  {
   "cell_type": "code",
   "execution_count": null,
   "metadata": {},
   "outputs": [],
   "source": [
    "z2 = np.dot(a1, W2) + b2\n",
    "a2 = sigmoid(z2)\n",
    "\n",
    "print(f\"Pre activation function shape z_2: {z2.shape}\")\n",
    "print(f\"Activation function shape a_2: {a2.shape}\")\n",
    "\n",
    "y_hat = a2"
   ]
  },
  {
   "cell_type": "markdown",
   "metadata": {},
   "source": [
    "- Calculate error\n",
    "    $$\\hat{y} = a^{(2)}$$\n",
    "    $$\\mathcal{L}= \\frac{1}{2n} \\sum_{i=1}^{n}(\\hat{y_i}- y_i)^2$$"
   ]
  },
  {
   "cell_type": "code",
   "execution_count": null,
   "metadata": {},
   "outputs": [],
   "source": [
    "#Calculate mse\n",
    "loss = np.mean((y - y_hat) ** 2) / 2\n",
    "\n",
    "print(f\"MSE: {loss}\")"
   ]
  },
  {
   "cell_type": "markdown",
   "metadata": {},
   "source": [
    "# Gradients from Output to Hidden layer\n",
    "Gradient of loss $\\mathcal{L}$ w.r.t $\\hat{y}$\n",
    "\n",
    "$$\n",
    "\\frac{\\partial \\mathcal{L}}{\\partial \\hat{y}} = \\frac{1}{n}\\sum_{i=1}^{n}(\\hat{y_i}- y_i)\n",
    "$$\n",
    "\n",
    "Derivative of Sigmoid function\n",
    "$$\n",
    "\\frac{\\partial \\hat{y}}{\\partial z^{(2)}} = \\hat{y}(1-\\hat{y})\n",
    "$$\n",
    "\n",
    "Combining the Gradients\n",
    "$$\n",
    "\\frac{\\partial \\mathcal{L}}{\\partial z^{(2)}} = (\\hat{y}-y).\\hat{y}(1-\\hat{y}) = \\delta{(2)}\n",
    "$$\n",
    "\n",
    "Weights and biases for Output layer\n",
    "$$\n",
    "dW^{(2)} = \\frac{\\partial \\mathcal{L}}{dW^{(2)}} = (a^{(1)})^T . \\delta^{(2)} \\\\[10pt]\n",
    "db^{(2)} = \\frac{\\partial \\mathcal{L}}{db^{(2)}} = \\sum \\delta^{(2)}\n",
    "$$\n"
   ]
  },
  {
   "cell_type": "code",
   "execution_count": null,
   "metadata": {},
   "outputs": [],
   "source": [
    "m = y.shape[0]\n",
    "delta2 = (a2 - y) * sigmoid_derivative(z2)\n",
    "dW2 = np.dot(a1.T, delta2) / m\n",
    "db2 = np.sum(delta2, axis=0, keepdims=True) / m\n",
    "\n",
    "print(dW2.shape, db2.shape)"
   ]
  },
  {
   "cell_type": "markdown",
   "metadata": {},
   "source": [
    "# Gradients from Hidden to Input layer\n",
    "\n",
    "\n",
    "Error term for Hidden layer $\\delta^{(1)}$\n",
    "\n",
    "$$\n",
    "\\delta^{(1)} = (\\delta^{(2)}.(W^{(2)})^T).\\sigma^{'}(z^{(1)}) \\\\[10pt]\n",
    "\\sigma^{'}(z^{(1)}) = a^{(1)}(1-a^{(1)}) \\\\[10pt]\n",
    "dW^{(1)} = \\frac{\\partial \\mathcal{L}}{dW^{(1)}} = (X)^T.\\delta^{(1)} \\\\[10pt]\n",
    "db^{(1)} = \\frac{\\partial \\mathcal{L}}{db^{(1)}} = \\sum \\delta^{(1)}\n",
    "$$\n",
    "\n"
   ]
  },
  {
   "cell_type": "code",
   "execution_count": null,
   "metadata": {},
   "outputs": [],
   "source": [
    "# From hidden to input layer\n",
    "m = y.shape[0]\n",
    "delta1 = np.dot(delta2, W2.T) * sigmoid_derivative(z1)\n",
    "dW1 = np.dot(X.T, delta1) / m\n",
    "db1 = np.sum(delta1, axis=0, keepdims=True) / m\n",
    "print(dW1.shape, db1.shape)"
   ]
  },
  {
   "cell_type": "code",
   "execution_count": null,
   "metadata": {},
   "outputs": [],
   "source": [
    "eta = 0.1 #learning rate"
   ]
  },
  {
   "cell_type": "markdown",
   "metadata": {},
   "source": [
    "# Gradient update rule\n",
    "\n",
    "From Output to Hidden layer\n",
    "$$\n",
    "W^{(2)} = W^{(2)} - \\eta \\frac{\\partial \\mathcal{L}}{\\partial W^{(2)}} \\\\[10pt] \n",
    "b^{(2)} = b^{(2)} - \\eta \\frac{\\partial \\mathcal{L}}{\\partial b^{(2)}} \\\\[10pt]\n",
    "$$\n",
    "From Hidden to Input layer\n",
    "$$\n",
    "W^{(1)} = W^{(1)} - \\eta \\frac{\\partial \\mathcal{L}}{\\partial W^{(1)}} \\\\[10pt]\n",
    "b^{(1)} = b^{(1)} - \\eta \\frac{\\partial \\mathcal{L}}{\\partial b^{(1)}} \\\\[10pt]\n",
    "\n",
    "\n",
    "$$"
   ]
  },
  {
   "cell_type": "code",
   "execution_count": null,
   "metadata": {},
   "outputs": [],
   "source": [
    "\"\"\"weight updates for all weights and biases\n",
    "    GD update rule going towards negative gradient direction of the loss surface\n",
    "\"\"\"\n",
    "W2 -= eta * dW2\n",
    "b2 -= eta * db2\n",
    "W1 -= eta * dW1\n",
    "b1 -= eta * db1\n",
    "\n",
    "\n"
   ]
  },
  {
   "cell_type": "markdown",
   "metadata": {},
   "source": [
    "# Place all these together"
   ]
  },
  {
   "cell_type": "code",
   "execution_count": null,
   "metadata": {},
   "outputs": [],
   "source": [
    "def initialize(input_layer_neurons, hidden_layer_neurons, output_neuron):\n",
    "    # Weights and biases for the input to hidden layer\n",
    "    W1 = 2 * np.random.random((input_layer_neurons, hidden_layer_neurons)) - 1\n",
    "    b1 = 2 * np.random.random((1, hidden_layer_neurons)) - 1\n",
    "\n",
    "\n",
    "    #Lets print shape\n",
    "    print(f\"Weights shape from input to hidden layer w_1: {W1.shape}\")\n",
    "    print(f\"Bias shape from input to hidden layer b_1: {b1.shape}\")\n",
    "\n",
    "\n",
    "\n",
    "    # Weights and biases for the hidden to output layer\n",
    "    W2 = 2 * np.random.random((hidden_layer_neurons, output_neuron)) - 1\n",
    "    b2 = 2 * np.random.random((1, output_neuron)) - 1\n",
    "\n",
    "    #Lets print shape\n",
    "    print(f\"Weights shape from hidden layer to output layer w_2: {W2.shape}\")\n",
    "    print(f\"Bias shape from hidden layer to output layer b_2: {b2.shape}\")\n",
    "\n",
    "\n",
    "    return W1, b1, W2, b2"
   ]
  },
  {
   "cell_type": "code",
   "execution_count": null,
   "metadata": {},
   "outputs": [],
   "source": [
    "# Forward pass\n",
    "def forward_prop(X, W1, b1, W2, b2):\n",
    "    # From input to hidden layer\n",
    "    z1 = np.dot(X, W1) + b1\n",
    "    a1 = sigmoid(z1)\n",
    "\n",
    "    # From hidden layer to output\n",
    "    z2 = np.dot(a1, W2) + b2\n",
    "    a2 = sigmoid(z2)\n",
    "\n",
    "    return z1, a1, z2, a2"
   ]
  },
  {
   "cell_type": "code",
   "execution_count": null,
   "metadata": {},
   "outputs": [],
   "source": [
    "def back_prop(X, y, z1, a1, z2, a2, W2):\n",
    "    m = y.shape[0]\n",
    "\n",
    "    # From output to hidden layer\n",
    "    delta2 = (a2 - y) * sigmoid_derivative(z2)\n",
    "    dW2 = np.dot(a1.T, delta2) / m\n",
    "    db2 = np.sum(delta2, axis=0, keepdims=True) / m\n",
    "\n",
    "    # From hidden to input layer\n",
    "    delta1 = np.dot(delta2, W2.T) * sigmoid_derivative(z1)\n",
    "    dW1 = np.dot(X.T, delta1) / m\n",
    "    db1 = np.sum(delta1, axis=0, keepdims=True) / m\n",
    "\n",
    "    return dW2, db2, dW1, db1"
   ]
  },
  {
   "cell_type": "code",
   "execution_count": null,
   "metadata": {},
   "outputs": [],
   "source": [
    "#Lets place all these together\n",
    "W1, b1, W2, b2 = initialize(input_layer_neurons, hidden_layer_neurons, output_neuron)\n",
    "epoch = 100000\n",
    "\n",
    "\n",
    "eta = 9e-2\n",
    "losses = []\n",
    "\n",
    "\n",
    "for i in range(epoch):\n",
    "    z1, a1, z2, a2 = forward_prop(X, W1, b1, W2, b2)\n",
    "\n",
    "    loss = np.mean((y - a2) ** 2) / 2\n",
    "    losses.append(loss)\n",
    "\n",
    "\n",
    "    dW2, db2, dW1, db1 = back_prop(X, y, z1, a1, z2, a2, W2)\n",
    "\n",
    "    # Update weights and biases\n",
    "    W2 -= eta * dW2\n",
    "    b2 -= eta * db2\n",
    "    W1 -= eta * dW1\n",
    "    b1 -= eta * db1\n",
    "\n",
    "\n",
    "    if i %5000 == 0:\n",
    "        print(f\"Epoch {i}, Loss: {loss}\")\n"
   ]
  },
  {
   "cell_type": "code",
   "execution_count": null,
   "metadata": {},
   "outputs": [],
   "source": [
    "# Plot the data points\n",
    "plt.scatter(X[:, 0], X[:, 1], c=y.ravel(), cmap='viridis', marker='o', s=100, edgecolor='k')\n",
    "plt.title('XOR Problem')\n",
    "\n",
    "# Create a mesh to plot the decision boundary\n",
    "xx, yy = np.meshgrid(np.linspace(-0.5, 1.5, 100), np.linspace(-0.5, 1.5, 100))\n",
    "grid = np.c_[xx.ravel(), yy.ravel()]\n",
    "\n",
    "# Forward pass on the grid\n",
    "_, _, _, a2_grid = forward_prop(grid, W1, b1, W2, b2)\n",
    "a2_grid = a2_grid.reshape(xx.shape)\n",
    "\n",
    "# Plot the decision boundary\n",
    "plt.contourf(xx, yy, a2_grid, levels=[0, 0.5, 1], alpha=0.2, colors=['blue', 'yellow'])\n",
    "plt.colorbar()\n",
    "plt.show()\n",
    "\n",
    "# Plot the loss over iterations\n",
    "plt.plot(losses)\n",
    "plt.title('Loss over iterations')\n",
    "plt.xlabel('Epoch')\n",
    "plt.ylabel('Loss')\n",
    "plt.show()\n",
    "\n",
    "# Final output\n",
    "_, _, _, final_output = forward_prop(X, W1, b1, W2, b2)\n",
    "predictions = np.where(final_output > 0.5, 1, 0)\n",
    "\n",
    "print(\"Final predictions:\\n\", predictions)"
   ]
  }
 ],
 "metadata": {
  "kernelspec": {
   "display_name": "vision",
   "language": "python",
   "name": "python3"
  },
  "language_info": {
   "codemirror_mode": {
    "name": "ipython",
    "version": 3
   },
   "file_extension": ".py",
   "mimetype": "text/x-python",
   "name": "python",
   "nbconvert_exporter": "python",
   "pygments_lexer": "ipython3",
   "version": "3.8.19"
  }
 },
 "nbformat": 4,
 "nbformat_minor": 2
}
